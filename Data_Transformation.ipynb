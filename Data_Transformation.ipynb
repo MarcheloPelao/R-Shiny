{
 "cells": [
  {
   "cell_type": "code",
   "execution_count": 1,
   "metadata": {},
   "outputs": [],
   "source": [
    "import pandas as pd\n",
    "\n",
    "import datetime\n",
    "import os\n"
   ]
  },
  {
   "cell_type": "code",
   "execution_count": 2,
   "metadata": {},
   "outputs": [
    {
     "data": {
      "text/plain": [
       "'/Users/victorb/Desktop/MAESTRIA/Data Visualization/Tableau-Python/Practica Final'"
      ]
     },
     "execution_count": 2,
     "metadata": {},
     "output_type": "execute_result"
    }
   ],
   "source": [
    "path = os.getcwd()\n",
    "path"
   ]
  },
  {
   "cell_type": "code",
   "execution_count": 3,
   "metadata": {},
   "outputs": [
    {
     "data": {
      "text/plain": [
       "Index(['Unnamed: 0', 'DATE  OF OCCURRENCE', ' IUCR', ' PRIMARY DESCRIPTION',\n",
       "       ' SECONDARY DESCRIPTION', ' LOCATION DESCRIPTION', 'ARREST', 'DOMESTIC',\n",
       "       'LATITUDE', 'LONGITUDE', 'City', 'State'],\n",
       "      dtype='object')"
      ]
     },
     "execution_count": 3,
     "metadata": {},
     "output_type": "execute_result"
    }
   ],
   "source": [
    "df=pd.read_csv('Chicago_crime_limpia.csv')\n",
    "df.columns"
   ]
  },
  {
   "cell_type": "code",
   "execution_count": null,
   "metadata": {},
   "outputs": [],
   "source": []
  },
  {
   "cell_type": "code",
   "execution_count": 4,
   "metadata": {},
   "outputs": [
    {
     "data": {
      "text/plain": [
       "Unnamed: 0                         int64\n",
       "DATE  OF OCCURRENCE       datetime64[ns]\n",
       " IUCR                             object\n",
       " PRIMARY DESCRIPTION              object\n",
       " SECONDARY DESCRIPTION            object\n",
       " LOCATION DESCRIPTION             object\n",
       "ARREST                            object\n",
       "DOMESTIC                          object\n",
       "LATITUDE                         float64\n",
       "LONGITUDE                        float64\n",
       "City                              object\n",
       "State                             object\n",
       "dtype: object"
      ]
     },
     "execution_count": 4,
     "metadata": {},
     "output_type": "execute_result"
    }
   ],
   "source": [
    "df1=df\n",
    "df1['DATE  OF OCCURRENCE']= pd.to_datetime(df1['DATE  OF OCCURRENCE'])\n",
    "df1.dtypes\n"
   ]
  },
  {
   "cell_type": "code",
   "execution_count": 5,
   "metadata": {
    "scrolled": true
   },
   "outputs": [
    {
     "data": {
      "text/plain": [
       "Unnamed: 0                         int64\n",
       "DATE  OF OCCURRENCE       datetime64[ns]\n",
       " IUCR                             object\n",
       " PRIMARY DESCRIPTION              object\n",
       " SECONDARY DESCRIPTION            object\n",
       " LOCATION DESCRIPTION             object\n",
       "ARREST                            object\n",
       "DOMESTIC                          object\n",
       "LATITUDE                         float64\n",
       "LONGITUDE                        float64\n",
       "City                              object\n",
       "State                             object\n",
       "dtype: object"
      ]
     },
     "execution_count": 5,
     "metadata": {},
     "output_type": "execute_result"
    }
   ],
   "source": [
    "df.dtypes"
   ]
  },
  {
   "cell_type": "code",
   "execution_count": 6,
   "metadata": {},
   "outputs": [
    {
     "data": {
      "text/html": [
       "<div>\n",
       "<style scoped>\n",
       "    .dataframe tbody tr th:only-of-type {\n",
       "        vertical-align: middle;\n",
       "    }\n",
       "\n",
       "    .dataframe tbody tr th {\n",
       "        vertical-align: top;\n",
       "    }\n",
       "\n",
       "    .dataframe thead th {\n",
       "        text-align: right;\n",
       "    }\n",
       "</style>\n",
       "<table border=\"1\" class=\"dataframe\">\n",
       "  <thead>\n",
       "    <tr style=\"text-align: right;\">\n",
       "      <th></th>\n",
       "      <th>Unnamed: 0</th>\n",
       "      <th>LATITUDE</th>\n",
       "      <th>LONGITUDE</th>\n",
       "    </tr>\n",
       "  </thead>\n",
       "  <tbody>\n",
       "    <tr>\n",
       "      <th>count</th>\n",
       "      <td>205258.000000</td>\n",
       "      <td>203972.000000</td>\n",
       "      <td>203972.000000</td>\n",
       "    </tr>\n",
       "    <tr>\n",
       "      <th>mean</th>\n",
       "      <td>102628.500000</td>\n",
       "      <td>41.840356</td>\n",
       "      <td>-87.670940</td>\n",
       "    </tr>\n",
       "    <tr>\n",
       "      <th>std</th>\n",
       "      <td>59253.025114</td>\n",
       "      <td>0.087968</td>\n",
       "      <td>0.059764</td>\n",
       "    </tr>\n",
       "    <tr>\n",
       "      <th>min</th>\n",
       "      <td>0.000000</td>\n",
       "      <td>41.644590</td>\n",
       "      <td>-87.927365</td>\n",
       "    </tr>\n",
       "    <tr>\n",
       "      <th>25%</th>\n",
       "      <td>51314.250000</td>\n",
       "      <td>41.765179</td>\n",
       "      <td>-87.714478</td>\n",
       "    </tr>\n",
       "    <tr>\n",
       "      <th>50%</th>\n",
       "      <td>102628.500000</td>\n",
       "      <td>41.854546</td>\n",
       "      <td>-87.664975</td>\n",
       "    </tr>\n",
       "    <tr>\n",
       "      <th>75%</th>\n",
       "      <td>153942.750000</td>\n",
       "      <td>41.904609</td>\n",
       "      <td>-87.627429</td>\n",
       "    </tr>\n",
       "    <tr>\n",
       "      <th>max</th>\n",
       "      <td>205257.000000</td>\n",
       "      <td>42.022586</td>\n",
       "      <td>-87.524545</td>\n",
       "    </tr>\n",
       "  </tbody>\n",
       "</table>\n",
       "</div>"
      ],
      "text/plain": [
       "          Unnamed: 0       LATITUDE      LONGITUDE\n",
       "count  205258.000000  203972.000000  203972.000000\n",
       "mean   102628.500000      41.840356     -87.670940\n",
       "std     59253.025114       0.087968       0.059764\n",
       "min         0.000000      41.644590     -87.927365\n",
       "25%     51314.250000      41.765179     -87.714478\n",
       "50%    102628.500000      41.854546     -87.664975\n",
       "75%    153942.750000      41.904609     -87.627429\n",
       "max    205257.000000      42.022586     -87.524545"
      ]
     },
     "execution_count": 6,
     "metadata": {},
     "output_type": "execute_result"
    }
   ],
   "source": [
    "df.isnull().sum()\n",
    "df.describe()"
   ]
  },
  {
   "cell_type": "code",
   "execution_count": 7,
   "metadata": {},
   "outputs": [
    {
     "data": {
      "text/plain": [
       "Unnamed: 0                0\n",
       "DATE  OF OCCURRENCE       0\n",
       " IUCR                     0\n",
       " PRIMARY DESCRIPTION      0\n",
       " SECONDARY DESCRIPTION    0\n",
       " LOCATION DESCRIPTION     0\n",
       "ARREST                    0\n",
       "DOMESTIC                  0\n",
       "LATITUDE                  0\n",
       "LONGITUDE                 0\n",
       "City                      0\n",
       "State                     0\n",
       "dtype: int64"
      ]
     },
     "execution_count": 7,
     "metadata": {},
     "output_type": "execute_result"
    }
   ],
   "source": [
    "df=df.dropna( axis=0)\n",
    "df.isnull().sum()"
   ]
  },
  {
   "cell_type": "code",
   "execution_count": 8,
   "metadata": {},
   "outputs": [
    {
     "data": {
      "text/html": [
       "<div>\n",
       "<style scoped>\n",
       "    .dataframe tbody tr th:only-of-type {\n",
       "        vertical-align: middle;\n",
       "    }\n",
       "\n",
       "    .dataframe tbody tr th {\n",
       "        vertical-align: top;\n",
       "    }\n",
       "\n",
       "    .dataframe thead th {\n",
       "        text-align: right;\n",
       "    }\n",
       "</style>\n",
       "<table border=\"1\" class=\"dataframe\">\n",
       "  <thead>\n",
       "    <tr style=\"text-align: right;\">\n",
       "      <th></th>\n",
       "      <th>Unnamed: 0</th>\n",
       "      <th>LATITUDE</th>\n",
       "      <th>LONGITUDE</th>\n",
       "    </tr>\n",
       "  </thead>\n",
       "  <tbody>\n",
       "    <tr>\n",
       "      <th>count</th>\n",
       "      <td>202996.000000</td>\n",
       "      <td>202996.000000</td>\n",
       "      <td>202996.000000</td>\n",
       "    </tr>\n",
       "    <tr>\n",
       "      <th>mean</th>\n",
       "      <td>102786.540764</td>\n",
       "      <td>41.840221</td>\n",
       "      <td>-87.670945</td>\n",
       "    </tr>\n",
       "    <tr>\n",
       "      <th>std</th>\n",
       "      <td>59236.932954</td>\n",
       "      <td>0.087912</td>\n",
       "      <td>0.059770</td>\n",
       "    </tr>\n",
       "    <tr>\n",
       "      <th>min</th>\n",
       "      <td>0.000000</td>\n",
       "      <td>41.644590</td>\n",
       "      <td>-87.927365</td>\n",
       "    </tr>\n",
       "    <tr>\n",
       "      <th>25%</th>\n",
       "      <td>51576.500000</td>\n",
       "      <td>41.765158</td>\n",
       "      <td>-87.714552</td>\n",
       "    </tr>\n",
       "    <tr>\n",
       "      <th>50%</th>\n",
       "      <td>102842.500000</td>\n",
       "      <td>41.854271</td>\n",
       "      <td>-87.665007</td>\n",
       "    </tr>\n",
       "    <tr>\n",
       "      <th>75%</th>\n",
       "      <td>154087.250000</td>\n",
       "      <td>41.904462</td>\n",
       "      <td>-87.627419</td>\n",
       "    </tr>\n",
       "    <tr>\n",
       "      <th>max</th>\n",
       "      <td>205257.000000</td>\n",
       "      <td>42.022586</td>\n",
       "      <td>-87.524545</td>\n",
       "    </tr>\n",
       "  </tbody>\n",
       "</table>\n",
       "</div>"
      ],
      "text/plain": [
       "          Unnamed: 0       LATITUDE      LONGITUDE\n",
       "count  202996.000000  202996.000000  202996.000000\n",
       "mean   102786.540764      41.840221     -87.670945\n",
       "std     59236.932954       0.087912       0.059770\n",
       "min         0.000000      41.644590     -87.927365\n",
       "25%     51576.500000      41.765158     -87.714552\n",
       "50%    102842.500000      41.854271     -87.665007\n",
       "75%    154087.250000      41.904462     -87.627419\n",
       "max    205257.000000      42.022586     -87.524545"
      ]
     },
     "execution_count": 8,
     "metadata": {},
     "output_type": "execute_result"
    }
   ],
   "source": [
    "df.isnull().sum()\n",
    "df.describe()"
   ]
  },
  {
   "cell_type": "code",
   "execution_count": 9,
   "metadata": {},
   "outputs": [
    {
     "data": {
      "text/plain": [
       "Index(['Unnamed: 0', 'DATE  OF OCCURRENCE', ' IUCR', ' PRIMARY DESCRIPTION',\n",
       "       ' SECONDARY DESCRIPTION', ' LOCATION DESCRIPTION', 'ARREST', 'DOMESTIC',\n",
       "       'LATITUDE', 'LONGITUDE', 'City', 'State'],\n",
       "      dtype='object')"
      ]
     },
     "execution_count": 9,
     "metadata": {},
     "output_type": "execute_result"
    }
   ],
   "source": [
    "df.columns"
   ]
  },
  {
   "cell_type": "code",
   "execution_count": 10,
   "metadata": {},
   "outputs": [
    {
     "data": {
      "text/plain": [
       "array(['BATTERY', 'THEFT', 'CRIMINAL TRESPASS', 'NARCOTICS',\n",
       "       'CRIMINAL DAMAGE', 'BURGLARY', 'MOTOR VEHICLE THEFT',\n",
       "       'OFFENSE INVOLVING CHILDREN', 'DECEPTIVE PRACTICE',\n",
       "       'OTHER OFFENSE', 'ASSAULT', 'ROBBERY', 'SEX OFFENSE',\n",
       "       'WEAPONS VIOLATION', 'HOMICIDE', 'CRIMINAL SEXUAL ASSAULT',\n",
       "       'PUBLIC PEACE VIOLATION', 'PROSTITUTION',\n",
       "       'INTERFERENCE WITH PUBLIC OFFICER', 'INTIMIDATION', 'STALKING',\n",
       "       'ARSON', 'CONCEALED CARRY LICENSE VIOLATION', 'KIDNAPPING',\n",
       "       'LIQUOR LAW VIOLATION', 'OBSCENITY', 'CRIM SEXUAL ASSAULT',\n",
       "       'OTHER NARCOTIC VIOLATION', 'PUBLIC INDECENCY',\n",
       "       'HUMAN TRAFFICKING', 'GAMBLING', 'NON-CRIMINAL', 'RITUALISM'],\n",
       "      dtype=object)"
      ]
     },
     "execution_count": 10,
     "metadata": {},
     "output_type": "execute_result"
    }
   ],
   "source": [
    "df[' PRIMARY DESCRIPTION'].unique()"
   ]
  },
  {
   "cell_type": "code",
   "execution_count": 11,
   "metadata": {},
   "outputs": [
    {
     "name": "stderr",
     "output_type": "stream",
     "text": [
      "<ipython-input-11-5eb3eb78e69f>:26: SettingWithCopyWarning: \n",
      "A value is trying to be set on a copy of a slice from a DataFrame.\n",
      "Try using .loc[row_indexer,col_indexer] = value instead\n",
      "\n",
      "See the caveats in the documentation: https://pandas.pydata.org/pandas-docs/stable/user_guide/indexing.html#returning-a-view-versus-a-copy\n",
      "  df['GRAVITY_OF_CRIME']=GRAVITY_OF_CRIME\n",
      "<ipython-input-11-5eb3eb78e69f>:27: SettingWithCopyWarning: \n",
      "A value is trying to be set on a copy of a slice from a DataFrame.\n",
      "Try using .loc[row_indexer,col_indexer] = value instead\n",
      "\n",
      "See the caveats in the documentation: https://pandas.pydata.org/pandas-docs/stable/user_guide/indexing.html#returning-a-view-versus-a-copy\n",
      "  df['TIME_FRAME']=Tiempo\n"
     ]
    }
   ],
   "source": [
    "GRAVITY_OF_CRIME=[]\n",
    "for i in df[' PRIMARY DESCRIPTION']:\n",
    "    if i =='BATTERY' or i=='NARCOTICS' or i=='CRIMINAL DAMAGE' or i=='BURGLARY' or i=='MOTOR VEHICLE THEFT' or i=='OFFENSE INVOLVING CHILDREN' or i=='HOMICIDE' or i=='CRIMINAL SEXUAL ASSAULT' or i=='ARSON' or i=='KIDNAPPING' or i=='HUMAN TRAFFICKING' or i=='CRIM SEXUAL ASSAULT':\n",
    "        i='HIGH'\n",
    "        GRAVITY_OF_CRIME.append(i)\n",
    "    elif i=='THEFT' or  i=='CRIMINAL TRESPASS' or i=='ASSAULT' or i=='ROBBERY' or i=='SEX OFFENSE' or i=='INTIMIDATION' or i=='CONCEALED CARRY LICENSE VIOLATION' or i=='GAMBLING':\n",
    "        i='MEDIUM'\n",
    "        GRAVITY_OF_CRIME.append(i)\n",
    "    elif i=='DECEPTIVE PRACTICE' or i=='OTHER OFFENSE' or i=='WEAPONS VIOLATION' or i=='PUBLIC PEACE VIOLATION' or i=='PROSTITUTION' or i=='INTERFERENCE WITH PUBLIC OFFICER' or i=='STALKING' or i=='LIQUOR LAW VIOLATION' or i=='OBSCENITY' or i=='OTHER NARCOTIC VIOLATION' or i=='PUBLIC INDECENCY' or i=='NON-CRIMINAL' or i=='RITUALISM':\n",
    "        i='LOW'\n",
    "        GRAVITY_OF_CRIME.append(i)\n",
    "Tiempo=[]   \n",
    "for i in df['DATE  OF OCCURRENCE']:\n",
    "    if i.hour >= 0 and i.hour<6 or i.hour==6 and i.minute ==0:\n",
    "        i='Dawn'\n",
    "        Tiempo.append(i)\n",
    "    elif i.hour < 12 or i.hour==12 and i.minute ==0:\n",
    "        i='Morning'\n",
    "        Tiempo.append(i)\n",
    "    elif i.hour < 18 or i.hour==18 and i.minute ==0:\n",
    "        i='Afternoon'\n",
    "        Tiempo.append(i)\n",
    "    elif i.hour < 24 or i.hour==24 and i.minute ==0:\n",
    "        i='Evening'\n",
    "        Tiempo.append(i)\n",
    "df['GRAVITY_OF_CRIME']=GRAVITY_OF_CRIME\n",
    "df['TIME_FRAME']=Tiempo"
   ]
  },
  {
   "cell_type": "code",
   "execution_count": 12,
   "metadata": {},
   "outputs": [],
   "source": [
    "df=df.iloc[:,1:]\n"
   ]
  },
  {
   "cell_type": "code",
   "execution_count": 13,
   "metadata": {},
   "outputs": [
    {
     "data": {
      "text/html": [
       "<div>\n",
       "<style scoped>\n",
       "    .dataframe tbody tr th:only-of-type {\n",
       "        vertical-align: middle;\n",
       "    }\n",
       "\n",
       "    .dataframe tbody tr th {\n",
       "        vertical-align: top;\n",
       "    }\n",
       "\n",
       "    .dataframe thead th {\n",
       "        text-align: right;\n",
       "    }\n",
       "</style>\n",
       "<table border=\"1\" class=\"dataframe\">\n",
       "  <thead>\n",
       "    <tr style=\"text-align: right;\">\n",
       "      <th></th>\n",
       "      <th>DATE  OF OCCURRENCE</th>\n",
       "      <th>IUCR</th>\n",
       "      <th>PRIMARY DESCRIPTION</th>\n",
       "      <th>SECONDARY DESCRIPTION</th>\n",
       "      <th>LOCATION DESCRIPTION</th>\n",
       "      <th>ARREST</th>\n",
       "      <th>DOMESTIC</th>\n",
       "      <th>LATITUDE</th>\n",
       "      <th>LONGITUDE</th>\n",
       "      <th>City</th>\n",
       "      <th>State</th>\n",
       "      <th>GRAVITY_OF_CRIME</th>\n",
       "      <th>TIME_FRAME</th>\n",
       "    </tr>\n",
       "  </thead>\n",
       "  <tbody>\n",
       "    <tr>\n",
       "      <th>0</th>\n",
       "      <td>2020-02-25 10:20:00</td>\n",
       "      <td>0460</td>\n",
       "      <td>BATTERY</td>\n",
       "      <td>SIMPLE</td>\n",
       "      <td>GROCERY FOOD STORE</td>\n",
       "      <td>Y</td>\n",
       "      <td>N</td>\n",
       "      <td>41.864494</td>\n",
       "      <td>-87.639158</td>\n",
       "      <td>Chicago</td>\n",
       "      <td>Illinois</td>\n",
       "      <td>HIGH</td>\n",
       "      <td>Morning</td>\n",
       "    </tr>\n",
       "    <tr>\n",
       "      <th>1</th>\n",
       "      <td>2020-02-25 05:30:00</td>\n",
       "      <td>0820</td>\n",
       "      <td>THEFT</td>\n",
       "      <td>$500 AND UNDER</td>\n",
       "      <td>STREET</td>\n",
       "      <td>N</td>\n",
       "      <td>N</td>\n",
       "      <td>41.959340</td>\n",
       "      <td>-87.711475</td>\n",
       "      <td>Chicago</td>\n",
       "      <td>Illinois</td>\n",
       "      <td>MEDIUM</td>\n",
       "      <td>Dawn</td>\n",
       "    </tr>\n",
       "    <tr>\n",
       "      <th>2</th>\n",
       "      <td>2020-02-25 13:04:00</td>\n",
       "      <td>1330</td>\n",
       "      <td>CRIMINAL TRESPASS</td>\n",
       "      <td>TO LAND</td>\n",
       "      <td>RESTAURANT</td>\n",
       "      <td>Y</td>\n",
       "      <td>N</td>\n",
       "      <td>41.848475</td>\n",
       "      <td>-87.724676</td>\n",
       "      <td>Chicago</td>\n",
       "      <td>Illinois</td>\n",
       "      <td>MEDIUM</td>\n",
       "      <td>Afternoon</td>\n",
       "    </tr>\n",
       "    <tr>\n",
       "      <th>3</th>\n",
       "      <td>2020-02-25 18:05:00</td>\n",
       "      <td>0486</td>\n",
       "      <td>BATTERY</td>\n",
       "      <td>DOMESTIC BATTERY SIMPLE</td>\n",
       "      <td>APARTMENT</td>\n",
       "      <td>Y</td>\n",
       "      <td>Y</td>\n",
       "      <td>41.987716</td>\n",
       "      <td>-87.666750</td>\n",
       "      <td>Chicago</td>\n",
       "      <td>Illinois</td>\n",
       "      <td>HIGH</td>\n",
       "      <td>Evening</td>\n",
       "    </tr>\n",
       "    <tr>\n",
       "      <th>4</th>\n",
       "      <td>2020-02-25 13:42:00</td>\n",
       "      <td>2027</td>\n",
       "      <td>NARCOTICS</td>\n",
       "      <td>POSS: CRACK</td>\n",
       "      <td>STREET</td>\n",
       "      <td>Y</td>\n",
       "      <td>N</td>\n",
       "      <td>41.901353</td>\n",
       "      <td>-87.725041</td>\n",
       "      <td>Chicago</td>\n",
       "      <td>Illinois</td>\n",
       "      <td>HIGH</td>\n",
       "      <td>Afternoon</td>\n",
       "    </tr>\n",
       "    <tr>\n",
       "      <th>...</th>\n",
       "      <td>...</td>\n",
       "      <td>...</td>\n",
       "      <td>...</td>\n",
       "      <td>...</td>\n",
       "      <td>...</td>\n",
       "      <td>...</td>\n",
       "      <td>...</td>\n",
       "      <td>...</td>\n",
       "      <td>...</td>\n",
       "      <td>...</td>\n",
       "      <td>...</td>\n",
       "      <td>...</td>\n",
       "      <td>...</td>\n",
       "    </tr>\n",
       "    <tr>\n",
       "      <th>205253</th>\n",
       "      <td>2020-10-25 12:00:00</td>\n",
       "      <td>1154</td>\n",
       "      <td>DECEPTIVE PRACTICE</td>\n",
       "      <td>FINANCIAL IDENTITY THEFT $300 AND UNDER</td>\n",
       "      <td>RESIDENCE</td>\n",
       "      <td>N</td>\n",
       "      <td>N</td>\n",
       "      <td>41.933710</td>\n",
       "      <td>-87.780916</td>\n",
       "      <td>Chicago</td>\n",
       "      <td>Illinois</td>\n",
       "      <td>LOW</td>\n",
       "      <td>Morning</td>\n",
       "    </tr>\n",
       "    <tr>\n",
       "      <th>205254</th>\n",
       "      <td>2020-11-07 22:00:00</td>\n",
       "      <td>0281</td>\n",
       "      <td>CRIMINAL SEXUAL ASSAULT</td>\n",
       "      <td>NON-AGGRAVATED</td>\n",
       "      <td>HOTEL / MOTEL</td>\n",
       "      <td>N</td>\n",
       "      <td>N</td>\n",
       "      <td>41.869048</td>\n",
       "      <td>-87.624126</td>\n",
       "      <td>Chicago</td>\n",
       "      <td>Illinois</td>\n",
       "      <td>HIGH</td>\n",
       "      <td>Evening</td>\n",
       "    </tr>\n",
       "    <tr>\n",
       "      <th>205255</th>\n",
       "      <td>2020-11-17 16:15:00</td>\n",
       "      <td>0560</td>\n",
       "      <td>ASSAULT</td>\n",
       "      <td>SIMPLE</td>\n",
       "      <td>SIDEWALK</td>\n",
       "      <td>N</td>\n",
       "      <td>N</td>\n",
       "      <td>41.967512</td>\n",
       "      <td>-87.708446</td>\n",
       "      <td>Chicago</td>\n",
       "      <td>Illinois</td>\n",
       "      <td>MEDIUM</td>\n",
       "      <td>Afternoon</td>\n",
       "    </tr>\n",
       "    <tr>\n",
       "      <th>205256</th>\n",
       "      <td>2020-12-08 19:22:00</td>\n",
       "      <td>0486</td>\n",
       "      <td>BATTERY</td>\n",
       "      <td>DOMESTIC BATTERY SIMPLE</td>\n",
       "      <td>PARK PROPERTY</td>\n",
       "      <td>N</td>\n",
       "      <td>Y</td>\n",
       "      <td>41.951058</td>\n",
       "      <td>-87.643771</td>\n",
       "      <td>Chicago</td>\n",
       "      <td>Illinois</td>\n",
       "      <td>HIGH</td>\n",
       "      <td>Evening</td>\n",
       "    </tr>\n",
       "    <tr>\n",
       "      <th>205257</th>\n",
       "      <td>2020-11-17 20:45:00</td>\n",
       "      <td>0486</td>\n",
       "      <td>BATTERY</td>\n",
       "      <td>DOMESTIC BATTERY SIMPLE</td>\n",
       "      <td>APARTMENT</td>\n",
       "      <td>N</td>\n",
       "      <td>Y</td>\n",
       "      <td>42.011302</td>\n",
       "      <td>-87.693586</td>\n",
       "      <td>Chicago</td>\n",
       "      <td>Illinois</td>\n",
       "      <td>HIGH</td>\n",
       "      <td>Evening</td>\n",
       "    </tr>\n",
       "  </tbody>\n",
       "</table>\n",
       "<p>202996 rows × 13 columns</p>\n",
       "</div>"
      ],
      "text/plain": [
       "       DATE  OF OCCURRENCE  IUCR      PRIMARY DESCRIPTION  \\\n",
       "0      2020-02-25 10:20:00  0460                  BATTERY   \n",
       "1      2020-02-25 05:30:00  0820                    THEFT   \n",
       "2      2020-02-25 13:04:00  1330        CRIMINAL TRESPASS   \n",
       "3      2020-02-25 18:05:00  0486                  BATTERY   \n",
       "4      2020-02-25 13:42:00  2027                NARCOTICS   \n",
       "...                    ...   ...                      ...   \n",
       "205253 2020-10-25 12:00:00  1154       DECEPTIVE PRACTICE   \n",
       "205254 2020-11-07 22:00:00  0281  CRIMINAL SEXUAL ASSAULT   \n",
       "205255 2020-11-17 16:15:00  0560                  ASSAULT   \n",
       "205256 2020-12-08 19:22:00  0486                  BATTERY   \n",
       "205257 2020-11-17 20:45:00  0486                  BATTERY   \n",
       "\n",
       "                          SECONDARY DESCRIPTION  LOCATION DESCRIPTION ARREST  \\\n",
       "0                                        SIMPLE    GROCERY FOOD STORE      Y   \n",
       "1                                $500 AND UNDER                STREET      N   \n",
       "2                                       TO LAND            RESTAURANT      Y   \n",
       "3                       DOMESTIC BATTERY SIMPLE             APARTMENT      Y   \n",
       "4                                   POSS: CRACK                STREET      Y   \n",
       "...                                         ...                   ...    ...   \n",
       "205253  FINANCIAL IDENTITY THEFT $300 AND UNDER             RESIDENCE      N   \n",
       "205254                           NON-AGGRAVATED         HOTEL / MOTEL      N   \n",
       "205255                                   SIMPLE              SIDEWALK      N   \n",
       "205256                  DOMESTIC BATTERY SIMPLE         PARK PROPERTY      N   \n",
       "205257                  DOMESTIC BATTERY SIMPLE             APARTMENT      N   \n",
       "\n",
       "       DOMESTIC   LATITUDE  LONGITUDE     City     State GRAVITY_OF_CRIME  \\\n",
       "0             N  41.864494 -87.639158  Chicago  Illinois             HIGH   \n",
       "1             N  41.959340 -87.711475  Chicago  Illinois           MEDIUM   \n",
       "2             N  41.848475 -87.724676  Chicago  Illinois           MEDIUM   \n",
       "3             Y  41.987716 -87.666750  Chicago  Illinois             HIGH   \n",
       "4             N  41.901353 -87.725041  Chicago  Illinois             HIGH   \n",
       "...         ...        ...        ...      ...       ...              ...   \n",
       "205253        N  41.933710 -87.780916  Chicago  Illinois              LOW   \n",
       "205254        N  41.869048 -87.624126  Chicago  Illinois             HIGH   \n",
       "205255        N  41.967512 -87.708446  Chicago  Illinois           MEDIUM   \n",
       "205256        Y  41.951058 -87.643771  Chicago  Illinois             HIGH   \n",
       "205257        Y  42.011302 -87.693586  Chicago  Illinois             HIGH   \n",
       "\n",
       "       TIME_FRAME  \n",
       "0         Morning  \n",
       "1            Dawn  \n",
       "2       Afternoon  \n",
       "3         Evening  \n",
       "4       Afternoon  \n",
       "...           ...  \n",
       "205253    Morning  \n",
       "205254    Evening  \n",
       "205255  Afternoon  \n",
       "205256    Evening  \n",
       "205257    Evening  \n",
       "\n",
       "[202996 rows x 13 columns]"
      ]
     },
     "execution_count": 13,
     "metadata": {},
     "output_type": "execute_result"
    }
   ],
   "source": [
    "df"
   ]
  },
  {
   "cell_type": "code",
   "execution_count": 14,
   "metadata": {},
   "outputs": [],
   "source": [
    "df.to_csv('/Users/victorb/Desktop/MAESTRIA/Data Visualization/R/Chicago_crime_limpia.csv')"
   ]
  },
  {
   "cell_type": "code",
   "execution_count": null,
   "metadata": {},
   "outputs": [],
   "source": []
  },
  {
   "cell_type": "code",
   "execution_count": null,
   "metadata": {},
   "outputs": [],
   "source": []
  },
  {
   "cell_type": "code",
   "execution_count": null,
   "metadata": {},
   "outputs": [],
   "source": []
  },
  {
   "cell_type": "code",
   "execution_count": null,
   "metadata": {},
   "outputs": [],
   "source": []
  },
  {
   "cell_type": "code",
   "execution_count": null,
   "metadata": {},
   "outputs": [],
   "source": []
  },
  {
   "cell_type": "code",
   "execution_count": null,
   "metadata": {},
   "outputs": [],
   "source": []
  }
 ],
 "metadata": {
  "kernelspec": {
   "display_name": "Python 3",
   "language": "python",
   "name": "python3"
  },
  "language_info": {
   "codemirror_mode": {
    "name": "ipython",
    "version": 3
   },
   "file_extension": ".py",
   "mimetype": "text/x-python",
   "name": "python",
   "nbconvert_exporter": "python",
   "pygments_lexer": "ipython3",
   "version": "3.8.3"
  }
 },
 "nbformat": 4,
 "nbformat_minor": 4
}
